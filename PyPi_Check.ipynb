{
  "nbformat": 4,
  "nbformat_minor": 0,
  "metadata": {
    "colab": {
      "name": "PyPi Check.ipynb",
      "version": "0.3.2",
      "provenance": [],
      "collapsed_sections": [],
      "include_colab_link": true
    },
    "kernelspec": {
      "name": "python3",
      "display_name": "Python 3"
    }
  },
  "cells": [
    {
      "cell_type": "markdown",
      "metadata": {
        "id": "view-in-github",
        "colab_type": "text"
      },
      "source": [
        "<a href=\"https://colab.research.google.com/github/aaptecode/DS-Unit-3-Sprint-1-Software-Engineering/blob/master/PyPi_Check.ipynb\" target=\"_parent\"><img src=\"https://colab.research.google.com/assets/colab-badge.svg\" alt=\"Open In Colab\"/></a>"
      ]
    },
    {
      "metadata": {
        "id": "kJzgBAxohXH0",
        "colab_type": "code",
        "outputId": "ce5db77c-330a-40fc-e135-67ee7a73407b",
        "colab": {
          "base_uri": "https://localhost:8080/",
          "height": 190
        }
      },
      "cell_type": "code",
      "source": [
        "!pip install -U -i https://test.pypi.org/simple/ lambdata-aaptecode"
      ],
      "execution_count": 1,
      "outputs": [
        {
          "output_type": "stream",
          "text": [
            "Looking in indexes: https://test.pypi.org/simple/\n",
            "Collecting lambdata-aaptecode\n",
            "  Downloading https://test-files.pythonhosted.org/packages/2b/8e/b2bb8766e31afe46199f0d15a4e05ceba7c2e9e01c5ee7d55a26caf29b44/lambdata_aaptecode-0.0.4-py3-none-any.whl\n",
            "Requirement already satisfied, skipping upgrade: numpy in /usr/local/lib/python3.6/dist-packages (from lambdata-aaptecode) (1.14.6)\n",
            "Requirement already satisfied, skipping upgrade: pandas in /usr/local/lib/python3.6/dist-packages (from lambdata-aaptecode) (0.22.0)\n",
            "Requirement already satisfied, skipping upgrade: python-dateutil>=2 in /usr/local/lib/python3.6/dist-packages (from pandas->lambdata-aaptecode) (2.5.3)\n",
            "Requirement already satisfied, skipping upgrade: pytz>=2011k in /usr/local/lib/python3.6/dist-packages (from pandas->lambdata-aaptecode) (2018.9)\n",
            "Requirement already satisfied, skipping upgrade: six>=1.5 in /usr/local/lib/python3.6/dist-packages (from python-dateutil>=2->pandas->lambdata-aaptecode) (1.11.0)\n",
            "Installing collected packages: lambdata-aaptecode\n",
            "Successfully installed lambdata-aaptecode-0.0.4\n"
          ],
          "name": "stdout"
        }
      ]
    },
    {
      "metadata": {
        "id": "JBFktEigh61L",
        "colab_type": "code",
        "outputId": "76fdbf0b-d82d-4d1c-b2e5-7854694c2746",
        "colab": {
          "base_uri": "https://localhost:8080/",
          "height": 190
        }
      },
      "cell_type": "code",
      "source": [
        "import lambdata_aaptecode.mltools as mltools\n",
        "\n",
        "dir(mltools)"
      ],
      "execution_count": 2,
      "outputs": [
        {
          "output_type": "execute_result",
          "data": {
            "text/plain": [
              "['__builtins__',\n",
              " '__cached__',\n",
              " '__doc__',\n",
              " '__file__',\n",
              " '__loader__',\n",
              " '__name__',\n",
              " '__package__',\n",
              " '__spec__',\n",
              " 'conf_matrix_2d',\n",
              " 'train_validation_test_split']"
            ]
          },
          "metadata": {
            "tags": []
          },
          "execution_count": 2
        }
      ]
    },
    {
      "metadata": {
        "id": "gsmKOKCZAqCy",
        "colab_type": "code",
        "colab": {
          "base_uri": "https://localhost:8080/",
          "height": 104
        },
        "outputId": "35b03d27-c8cf-44f9-95c3-cdb9558bca8f"
      },
      "cell_type": "code",
      "source": [
        "help(mltools.conf_matrix_2d)"
      ],
      "execution_count": 3,
      "outputs": [
        {
          "output_type": "stream",
          "text": [
            "Help on function conf_matrix_2d in module lambdata_aaptecode.mltools:\n",
            "\n",
            "conf_matrix_2d(y_test, y_pred)\n",
            "    Delivers a confusion matrix for binary data\n",
            "\n"
          ],
          "name": "stdout"
        }
      ]
    },
    {
      "metadata": {
        "id": "-JA6jBvTAulN",
        "colab_type": "code",
        "colab": {
          "base_uri": "https://localhost:8080/",
          "height": 104
        },
        "outputId": "bbbd8b08-655f-4895-a052-949a29a12c5d"
      },
      "cell_type": "code",
      "source": [
        "help(mltools.train_validation_test_split)"
      ],
      "execution_count": 5,
      "outputs": [
        {
          "output_type": "stream",
          "text": [
            "Help on function train_validation_test_split in module lambdata_aaptecode.mltools:\n",
            "\n",
            "train_validation_test_split(X, y, train_size=0.8, val_size=0.1, test_size=0.1, random_state=None, shuffle=True)\n",
            "    Splits the features and target data into train, validation and test sets\n",
            "\n"
          ],
          "name": "stdout"
        }
      ]
    }
  ]
}